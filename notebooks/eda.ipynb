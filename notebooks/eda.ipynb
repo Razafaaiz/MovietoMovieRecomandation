{
 "cells": [
  {
   "cell_type": "code",
   "execution_count": 16,
   "id": "14ece673",
   "metadata": {},
   "outputs": [],
   "source": [
    "# Step 1: Imports\n",
    "# ===============================\n",
    "import pandas as pd\n",
    "import numpy as np\n",
    "from sentence_transformers import SentenceTransformer\n",
    "import faiss\n",
    "from difflib import get_close_matches"
   ]
  },
  {
   "cell_type": "code",
   "execution_count": 17,
   "id": "139f2543",
   "metadata": {},
   "outputs": [],
   "source": [
    "# Step 2: Load Datasets\n",
    "# ===============================\n",
    "# Movies dataset\n",
    "movies = pd.read_csv(\"../data/movies.csv\")\n",
    "\n",
    "# Optional: Ratings dataset (to show avg ratings)\n",
    "ratings = pd.read_csv(\"../data/ratings.csv\")\n",
    "\n",
    "# Tags and links are optional for now\n",
    "tags = pd.read_csv(\"../data/tags.csv\")\n",
    "links = pd.read_csv(\"../data/links.csv\")"
   ]
  },
  {
   "cell_type": "code",
   "execution_count": 18,
   "id": "1b527a7c",
   "metadata": {},
   "outputs": [
    {
     "name": "stdout",
     "output_type": "stream",
     "text": [
      "Movies: (27278, 3)\n",
      "Ratings: (20000263, 4)\n",
      "Tags: (465564, 4)\n",
      "Links: (27278, 3)\n",
      "   movieId                               title  \\\n",
      "0        1                    Toy Story (1995)   \n",
      "1        2                      Jumanji (1995)   \n",
      "2        3             Grumpier Old Men (1995)   \n",
      "3        4            Waiting to Exhale (1995)   \n",
      "4        5  Father of the Bride Part II (1995)   \n",
      "\n",
      "                                        genres  \n",
      "0  Adventure|Animation|Children|Comedy|Fantasy  \n",
      "1                   Adventure|Children|Fantasy  \n",
      "2                               Comedy|Romance  \n",
      "3                         Comedy|Drama|Romance  \n",
      "4                                       Comedy  \n"
     ]
    }
   ],
   "source": [
    "print(\"Movies:\", movies.shape)\n",
    "print(\"Ratings:\", ratings.shape)\n",
    "print(\"Tags:\", tags.shape)\n",
    "print(\"Links:\", links.shape)\n",
    "print(movies.head())"
   ]
  },
  {
   "cell_type": "code",
   "execution_count": 19,
   "id": "a067fa8c",
   "metadata": {},
   "outputs": [],
   "source": [
    "# Step 3: Preprocess Movie Text\n",
    "# ===============================\n",
    "# Combine title + genres for embeddings\n",
    "movies['text'] = movies['title'] + \" \" + movies['genres']"
   ]
  },
  {
   "cell_type": "code",
   "execution_count": 20,
   "id": "78913fd4",
   "metadata": {},
   "outputs": [
    {
     "name": "stderr",
     "output_type": "stream",
     "text": [
      "Batches: 100%|██████████| 853/853 [03:05<00:00,  4.59it/s]\n"
     ]
    },
    {
     "name": "stdout",
     "output_type": "stream",
     "text": [
      "Embeddings shape: (27278, 384)\n"
     ]
    }
   ],
   "source": [
    "# Step 4: Sentence-BERT Embeddings\n",
    "# ===============================\n",
    "embedder = SentenceTransformer('all-MiniLM-L6-v2')\n",
    "movie_embeddings = embedder.encode(movies['text'].tolist(), show_progress_bar=True)\n",
    "\n",
    "print(\"Embeddings shape:\", movie_embeddings.shape)  # (num_movies, 384)"
   ]
  },
  {
   "cell_type": "code",
   "execution_count": 21,
   "id": "01f4638f",
   "metadata": {},
   "outputs": [
    {
     "name": "stdout",
     "output_type": "stream",
     "text": [
      "FAISS index built with 27278 movies\n"
     ]
    }
   ],
   "source": [
    "# Step 5: Build FAISS Index\n",
    "# ===============================\n",
    "embedding_dim = movie_embeddings.shape[1]\n",
    "faiss_index = faiss.IndexFlatL2(embedding_dim)\n",
    "faiss_index.add(movie_embeddings.astype('float32'))\n",
    "\n",
    "print(\"FAISS index built with\", faiss_index.ntotal, \"movies\")"
   ]
  },
  {
   "cell_type": "code",
   "execution_count": 37,
   "id": "4a612540",
   "metadata": {},
   "outputs": [],
   "source": [
    "def find_closest_movie(title, movies, cutoff=0.4):\n",
    "    # Clean titles: remove year + lowercase\n",
    "    movies['title_clean'] = movies['title'].str.replace(r\"\\(\\d{4}\\)\", \"\", regex=True).str.strip()\n",
    "    title_input = title.lower()\n",
    "    titles = [t.lower() for t in movies['title_clean'].tolist()]\n",
    "    \n",
    "    from difflib import get_close_matches\n",
    "    matches = get_close_matches(title_input, titles, n=1, cutoff=cutoff)\n",
    "    if matches:\n",
    "        # Map back to original title\n",
    "        matched_idx = titles.index(matches[0])\n",
    "        return movies.iloc[matched_idx]['title']\n",
    "    return None\n"
   ]
  },
  {
   "cell_type": "code",
   "execution_count": 40,
   "id": "f526779e",
   "metadata": {},
   "outputs": [],
   "source": [
    "def recommend_movies_by_typing(input_title, movies, embeddings, faiss_index, ratings=None, top_k=5):\n",
    "    \"\"\"\n",
    "    Recommend movies given any typed input using vector similarity.\n",
    "    \"\"\"\n",
    "    # 1. Embed the input text\n",
    "    input_vector = embedder.encode([input_title]).astype('float32')\n",
    "    \n",
    "    # 2. Find closest movie in dataset\n",
    "    D, I = faiss_index.search(input_vector, 1)  # top 1 closest movie\n",
    "    closest_idx = I[0][0]\n",
    "    closest_title = movies.iloc[closest_idx]['title']\n",
    "    \n",
    "    # 3. Find top-K similar movies using FAISS\n",
    "    vector = embeddings[closest_idx].reshape(1, -1).astype('float32')\n",
    "    D, I = faiss_index.search(vector, top_k + 1)\n",
    "    recs = movies.iloc[I[0]][['movieId','title','genres']].copy()\n",
    "    recs = recs[recs['title'] != closest_title]  # remove the original movie\n",
    "    \n",
    "    # 4. Optional: add average rating\n",
    "    if ratings is not None:\n",
    "        avg_ratings = ratings.groupby(\"movieId\")['rating'].mean()\n",
    "        recs['avg_rating'] = recs['movieId'].map(avg_ratings.round(2))\n",
    "    \n",
    "    recs.reset_index(drop=True, inplace=True)\n",
    "    return closest_title, recs.head(top_k)\n"
   ]
  },
  {
   "cell_type": "code",
   "execution_count": 46,
   "id": "0af0f2ed",
   "metadata": {},
   "outputs": [
    {
     "name": "stdout",
     "output_type": "stream",
     "text": [
      "Closest match found: City of Your Final Destination, The (2009)\n",
      "Recommended Movies:\n",
      "   movieId                                              title  \\\n",
      "0     3409                           Final Destination (2000)   \n",
      "1    71252  Final Destination, The (Final Destination 4) (...   \n",
      "2     6058                         Final Destination 2 (2003)   \n",
      "3    78959                                     Endgame (2009)   \n",
      "4    88932                         Final Destination 5 (2011)   \n",
      "\n",
      "                 genres  avg_rating  \n",
      "0        Drama|Thriller        3.12  \n",
      "1       Horror|Thriller        2.59  \n",
      "2       Horror|Thriller        2.90  \n",
      "3                 Drama        4.00  \n",
      "4  Horror|Thriller|IMAX        2.69  \n"
     ]
    }
   ],
   "source": [
    "input_movie = \"final destination\"  # typo\n",
    "closest_title, recommendations = recommend_movies_by_typing(\n",
    "    input_movie, movies, movie_embeddings, faiss_index, ratings=ratings, top_k=5\n",
    ")\n",
    "\n",
    "print(f\"Closest match found: {closest_title}\")\n",
    "print(\"Recommended Movies:\")\n",
    "print(recommendations)\n"
   ]
  }
 ],
 "metadata": {
  "kernelspec": {
   "display_name": "Python 3",
   "language": "python",
   "name": "python3"
  },
  "language_info": {
   "codemirror_mode": {
    "name": "ipython",
    "version": 3
   },
   "file_extension": ".py",
   "mimetype": "text/x-python",
   "name": "python",
   "nbconvert_exporter": "python",
   "pygments_lexer": "ipython3",
   "version": "3.11.4"
  }
 },
 "nbformat": 4,
 "nbformat_minor": 5
}
